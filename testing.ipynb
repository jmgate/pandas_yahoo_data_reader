{
 "cells": [
  {
   "cell_type": "code",
   "execution_count": 177,
   "metadata": {
    "collapsed": false
   },
   "outputs": [],
   "source": [
    "import requests\n",
    "import datetime as dt\n",
    "\n",
    "\n",
    "def initial_request(symbol):\n",
    "    \"\"\"Query the Yahoo! Finance page for a particular ticker symbol.\n",
    "    \n",
    "    Args:\n",
    "        symbol (str): The ticker symbol.\n",
    "        \n",
    "    Returns:\n",
    "        requests.models.Response: The HTML of the requested page.\n",
    "    \"\"\"\n",
    "    initial_url = \"https://finance.yahoo.com/quote/\" + symbol + \"?p=\" + symbol\n",
    "    return requests.get(initial_url, verify=False)\n",
    "\n",
    "\n",
    "def get_cookies(r):\n",
    "    \"\"\"Grab the cookies and crumb from a requested Yahoo! Finance page for a particular symbol.\n",
    "    \n",
    "    Args:\n",
    "        r (requests.models.Response): The HTML of the requested page.\n",
    "    \n",
    "    Returns:\n",
    "        (requests.cookies.RequestsCookieJar, str): The cookie jar and associated crumb.\n",
    "    \"\"\"\n",
    "    cookies = r.cookies\n",
    "    crumbStore_begin = r.text.find(\"CrumbStore\")\n",
    "    crumbStore_end = r.text.find(\"}\", crumbStore_begin) - 1\n",
    "    crumbStore = r.text[crumbStore_begin:crumbStore_end]\n",
    "    crumb_begin = crumbStore.rfind(\"\\\"\") + 1\n",
    "    crumb = crumbStore[crumb_begin:]\n",
    "    return (cookies, crumb)\n",
    "    \n",
    "\n",
    "def date_sse(date):\n",
    "    \"\"\"Translate a date into a number of seconds since epoch.\n",
    "    \n",
    "    Args:\n",
    "        date (datetime.date): The date you'd like to translate.\n",
    "    \n",
    "    Returns:\n",
    "        str: The number of seconds since the Unix epoch (1970-01-01 00:00:00).\n",
    "    \"\"\"\n",
    "    # DO I NEED TO WORRY ABOUT TIMEZONES?\n",
    "    import calendar\n",
    "    date = dt.datetime.combine(date, dt.datetime.min.time())\n",
    "    return str(calendar.timegm(date.utctimetuple()))\n",
    "\n",
    "\n",
    "def final_request(symbol, start_date, end_date, cookies, crumb):\n",
    "    \"\"\"Get a CSV of the historical financial data for the specified ticker symbol.\n",
    "    \n",
    "    Args:\n",
    "        symbol (str): The ticker symbol for which you'd like the historical data.\n",
    "        start_date (datetime.date): The first day for which you'd like data.\n",
    "        end_date (datetime.date): The last day for which you'd like data.\n",
    "        cookies (requests.cookies.RequestsCookieJar): The cookie jar needed to make the request.\n",
    "        crumb (str): The cookie crumb needed to make the request.\n",
    "    \n",
    "    Returns:\n",
    "        str: A comma-separated string with column headings Date, Open, High, Low, Close, Adj Close, and Volume.\n",
    "    \"\"\"\n",
    "    url = (\"https://query1.finance.yahoo.com/v7/finance/download/\"\n",
    "           + symbol\n",
    "           + \"?period1=\"\n",
    "           + date_sse(start_date)\n",
    "           + \"&period2=\"\n",
    "           + date_sse(end_date)\n",
    "           + \"&interval=1d\"\n",
    "           + \"&events=history\"\n",
    "           + \"&crumb=\"\n",
    "           + crumb)\n",
    "    return requests.get(url, cookies=cookies, verify=False)\n",
    "\n",
    "\n",
    "def get_data(symbol, start_date=dt.date.today(), end_date=dt.date.today()):\n",
    "    \"\"\"Get historical financial data for the given ticker symbol.\n",
    "    \n",
    "    Args:\n",
    "        symbol (str): The ticker symbol for which you'd like the historical data.\n",
    "        start_date (datetime.date, optional): The first day for which you'd like data. Defaults to today.\n",
    "        end_date (datetime.date, optional): The last day for which you'd like data. Defaults to today.\n",
    "    \n",
    "    Returns:\n",
    "        pandas.core.frame.DataFrame: The requested historical financial data.\n",
    "    \"\"\"\n",
    "    import pandas as pd\n",
    "    from io import StringIO\n",
    "    symbol = symbol.upper()\n",
    "    # CHECK TO ENSURE DATES ARE VALID?\n",
    "    r = initial_request(symbol)\n",
    "    (cookies, crumb) = get_cookies(r)\n",
    "    data = final_request(symbol, start_date, end_date, cookies, crumb)\n",
    "    return pd.read_csv(StringIO(data.text), index_col=0)"
   ]
  },
  {
   "cell_type": "code",
   "execution_count": 176,
   "metadata": {
    "collapsed": false,
    "scrolled": true
   },
   "outputs": [
    {
     "name": "stderr",
     "output_type": "stream",
     "text": [
      "/Users/jmgate/Library/Enthought/Canopy/edm/envs/User/lib/python3.5/site-packages/urllib3/connectionpool.py:858: InsecureRequestWarning: Unverified HTTPS request is being made. Adding certificate verification is strongly advised. See: https://urllib3.readthedocs.io/en/latest/advanced-usage.html#ssl-warnings\n",
      "  InsecureRequestWarning)\n",
      "/Users/jmgate/Library/Enthought/Canopy/edm/envs/User/lib/python3.5/site-packages/urllib3/connectionpool.py:858: InsecureRequestWarning: Unverified HTTPS request is being made. Adding certificate verification is strongly advised. See: https://urllib3.readthedocs.io/en/latest/advanced-usage.html#ssl-warnings\n",
      "  InsecureRequestWarning)\n"
     ]
    },
    {
     "data": {
      "text/html": [
       "<div>\n",
       "<style>\n",
       "    .dataframe thead tr:only-child th {\n",
       "        text-align: right;\n",
       "    }\n",
       "\n",
       "    .dataframe thead th {\n",
       "        text-align: left;\n",
       "    }\n",
       "\n",
       "    .dataframe tbody tr th {\n",
       "        vertical-align: top;\n",
       "    }\n",
       "</style>\n",
       "<table border=\"1\" class=\"dataframe\">\n",
       "  <thead>\n",
       "    <tr style=\"text-align: right;\">\n",
       "      <th></th>\n",
       "      <th>Open</th>\n",
       "      <th>High</th>\n",
       "      <th>Low</th>\n",
       "      <th>Close</th>\n",
       "      <th>Adj Close</th>\n",
       "      <th>Volume</th>\n",
       "    </tr>\n",
       "    <tr>\n",
       "      <th>Date</th>\n",
       "      <th></th>\n",
       "      <th></th>\n",
       "      <th></th>\n",
       "      <th></th>\n",
       "      <th></th>\n",
       "      <th></th>\n",
       "    </tr>\n",
       "  </thead>\n",
       "  <tbody>\n",
       "    <tr>\n",
       "      <th>2018-01-23</th>\n",
       "      <td>1159.849976</td>\n",
       "      <td>1171.626953</td>\n",
       "      <td>1158.750000</td>\n",
       "      <td>1169.969971</td>\n",
       "      <td>1169.969971</td>\n",
       "      <td>1333100</td>\n",
       "    </tr>\n",
       "    <tr>\n",
       "      <th>2018-01-24</th>\n",
       "      <td>1177.329956</td>\n",
       "      <td>1179.859985</td>\n",
       "      <td>1161.050049</td>\n",
       "      <td>1164.239990</td>\n",
       "      <td>1164.239990</td>\n",
       "      <td>1416600</td>\n",
       "    </tr>\n",
       "    <tr>\n",
       "      <th>2018-01-25</th>\n",
       "      <td>1172.530029</td>\n",
       "      <td>1175.939941</td>\n",
       "      <td>1162.760010</td>\n",
       "      <td>1170.369995</td>\n",
       "      <td>1170.369995</td>\n",
       "      <td>1480500</td>\n",
       "    </tr>\n",
       "    <tr>\n",
       "      <th>2018-01-26</th>\n",
       "      <td>1175.079956</td>\n",
       "      <td>1175.839966</td>\n",
       "      <td>1158.109985</td>\n",
       "      <td>1175.839966</td>\n",
       "      <td>1175.839966</td>\n",
       "      <td>2018800</td>\n",
       "    </tr>\n",
       "    <tr>\n",
       "      <th>2018-01-29</th>\n",
       "      <td>1176.479980</td>\n",
       "      <td>1186.890015</td>\n",
       "      <td>1171.979980</td>\n",
       "      <td>1175.579956</td>\n",
       "      <td>1175.579956</td>\n",
       "      <td>1378900</td>\n",
       "    </tr>\n",
       "    <tr>\n",
       "      <th>2018-01-30</th>\n",
       "      <td>1167.829956</td>\n",
       "      <td>1176.520020</td>\n",
       "      <td>1163.520020</td>\n",
       "      <td>1163.689941</td>\n",
       "      <td>1163.689941</td>\n",
       "      <td>1556300</td>\n",
       "    </tr>\n",
       "    <tr>\n",
       "      <th>2018-01-31</th>\n",
       "      <td>1170.569946</td>\n",
       "      <td>1173.000000</td>\n",
       "      <td>1159.130005</td>\n",
       "      <td>1169.939941</td>\n",
       "      <td>1169.939941</td>\n",
       "      <td>1512600</td>\n",
       "    </tr>\n",
       "  </tbody>\n",
       "</table>\n",
       "</div>"
      ],
      "text/plain": [
       "                   Open         High          Low        Close    Adj Close  \\\n",
       "Date                                                                          \n",
       "2018-01-23  1159.849976  1171.626953  1158.750000  1169.969971  1169.969971   \n",
       "2018-01-24  1177.329956  1179.859985  1161.050049  1164.239990  1164.239990   \n",
       "2018-01-25  1172.530029  1175.939941  1162.760010  1170.369995  1170.369995   \n",
       "2018-01-26  1175.079956  1175.839966  1158.109985  1175.839966  1175.839966   \n",
       "2018-01-29  1176.479980  1186.890015  1171.979980  1175.579956  1175.579956   \n",
       "2018-01-30  1167.829956  1176.520020  1163.520020  1163.689941  1163.689941   \n",
       "2018-01-31  1170.569946  1173.000000  1159.130005  1169.939941  1169.939941   \n",
       "\n",
       "             Volume  \n",
       "Date                 \n",
       "2018-01-23  1333100  \n",
       "2018-01-24  1416600  \n",
       "2018-01-25  1480500  \n",
       "2018-01-26  2018800  \n",
       "2018-01-29  1378900  \n",
       "2018-01-30  1556300  \n",
       "2018-01-31  1512600  "
      ]
     },
     "execution_count": 176,
     "metadata": {},
     "output_type": "execute_result"
    }
   ],
   "source": [
    "from pandas.tseries.offsets import *\n",
    "get_data(\"GOOG\", dt.date.today() - 7*BDay(), dt.date.today())"
   ]
  },
  {
   "cell_type": "code",
   "execution_count": 299,
   "metadata": {
    "collapsed": true
   },
   "outputs": [],
   "source": [
    "class YahooDataReader:\n",
    "    \"\"\"\n",
    "    \"\"\"\n",
    "    import pandas as _pd\n",
    "    from io import StringIO as _StringIO\n",
    "    import requests as _requests\n",
    "    import datetime as _dt\n",
    "    import calendar as _cal\n",
    "\n",
    "        \n",
    "    def __init__(self, symbol):\n",
    "        self.symbol = symbol\n",
    "        self._validate_symbol()\n",
    "        self._initial_request()\n",
    "        self._get_cookies()\n",
    "        self._initial_request = None\n",
    "        self._cookies = None\n",
    "        self._crumb = None\n",
    "        self._start_date = None\n",
    "        self._end_date = None\n",
    "        self._request_results = None\n",
    "        self.data = None\n",
    "    \n",
    "    \n",
    "    def __repr__(self):\n",
    "        return \"<YahooDataReader: symbol:{} start_date:{} end_date:{}>\".format(\n",
    "            self.symbol,\n",
    "            self._start_date,\n",
    "            self._end_date)\n",
    "    \n",
    "    def __str__(self):\n",
    "        return \"\"\"YahooDataReader:\n",
    "    Ticker Symbol:  {}\n",
    "    Start Date:     {}\n",
    "    End Date:       {}\n",
    "        \"\"\".format(self.symbol, self._start_date, self._end_date)\n",
    "\n",
    "        \n",
    "    def _validate_symbol(self):\n",
    "        \"\"\"Ensure we have a valid ticker symbol.\"\"\"\n",
    "        self.symbol = self.symbol.upper()\n",
    "        # CHECK TO MAKE SURE INPUT IS VALID TICKER SYMBOL.\n",
    "\n",
    "\n",
    "    def get_data(self, start_date=_dt.date.today(), end_date=None):\n",
    "        \"\"\"Get historical financial data between two dates.\n",
    "\n",
    "        Args:\n",
    "            start_date (datetime.date, optional): The first day for which you'd like data. Defaults to today.\n",
    "            end_date (datetime.date, optional): The last day for which you'd like data. Defaults to today.\n",
    "\n",
    "        Returns:\n",
    "            pandas.core.frame.DataFrame: The requested historical financial data.\n",
    "        \"\"\"\n",
    "        self._validate_dates(start_date, end_date)\n",
    "        self._final_request()\n",
    "        self._get_dataframe()\n",
    "    \n",
    "    \n",
    "    def _validate_dates(self, start_date, end_date):\n",
    "        \"\"\"\n",
    "        \"\"\"\n",
    "        if not end_date:\n",
    "            end_date = start_date\n",
    "        # MAKE SURE END DATE IS AFTER OR EQUAL TO START DATE.\n",
    "        self._start_date = start_date\n",
    "        self._end_date = end_date\n",
    "    \n",
    "    \n",
    "    def _initial_request(self):\n",
    "        \"\"\"Query the Yahoo! Finance page.\"\"\"\n",
    "        initial_url = (\"https://finance.yahoo.com/quote/\"\n",
    "                       + self.symbol\n",
    "                       + \"?p=\"\n",
    "                       + self.symbol)\n",
    "        self._initial_request = requests.get(initial_url, verify=False)\n",
    "\n",
    "\n",
    "    def _get_cookies(self):\n",
    "        \"\"\"Grab the cookies and crumb from a requested Yahoo! Finance page.\"\"\"\n",
    "        r = self._initial_request\n",
    "        self._cookies = r.cookies\n",
    "        crumb_store_begin = r.text.find(\"CrumbStore\")\n",
    "        crumb_store_end = r.text.find(\"}\", crumb_store_begin) - 1\n",
    "        crumb_store = r.text[crumb_store_begin:crumb_store_end]\n",
    "        crumb_begin = crumb_store.rfind(\"\\\"\") + 1\n",
    "        self._crumb = crumb_store[crumb_begin:]\n",
    "\n",
    "\n",
    "    def date_to_sse(date):\n",
    "        \"\"\"Translate a date into a number of seconds since epoch.\n",
    "\n",
    "        Args:\n",
    "            date (datetime.date): The date you'd like to translate.\n",
    "\n",
    "        Returns:\n",
    "            str: The number of seconds since the Unix epoch (1970-01-01 00:00:00).\n",
    "        \"\"\"\n",
    "        # DO I NEED TO WORRY ABOUT TIMEZONES?\n",
    "        date = _dt.datetime.combine(date, _dt.datetime.min.time())\n",
    "        return str(_cal.timegm(date.utctimetuple()))\n",
    "\n",
    "\n",
    "    def _final_request(self):\n",
    "        \"\"\"Get a CSV of the historical financial data.\n",
    "\n",
    "        Args:\n",
    "            start_date (datetime.date): The first day for which you'd like data.\n",
    "            end_date (datetime.date): The last day for which you'd like data.\n",
    "        \"\"\"\n",
    "        url = (\"https://query1.finance.yahoo.com/v7/finance/download/\"\n",
    "               + self.symbol\n",
    "               + \"?period1=\"\n",
    "               + date_to_sse(self._start_date)\n",
    "               + \"&period2=\"\n",
    "               + date_to_sse(self._end_date)\n",
    "               + \"&interval=1d\"\n",
    "               + \"&events=history\"\n",
    "               + \"&crumb=\"\n",
    "               + self._crumb)\n",
    "        self._request_results = _requests.get(url, cookies=self._cookies, verify=False)\n",
    "    \n",
    "    \n",
    "    def _get_dataframe(self):\n",
    "        \"\"\"Read the CSV results into a DataFrame.\"\"\"\n",
    "        self.data = _pd.read_csv(_StringIO(self._data.text), index_col=0)\n",
    "\n"
   ]
  },
  {
   "cell_type": "code",
   "execution_count": 300,
   "metadata": {
    "collapsed": false
   },
   "outputs": [
    {
     "name": "stderr",
     "output_type": "stream",
     "text": [
      "/Users/jmgate/Library/Enthought/Canopy/edm/envs/User/lib/python3.5/site-packages/urllib3/connectionpool.py:858: InsecureRequestWarning: Unverified HTTPS request is being made. Adding certificate verification is strongly advised. See: https://urllib3.readthedocs.io/en/latest/advanced-usage.html#ssl-warnings\n",
      "  InsecureRequestWarning)\n"
     ]
    }
   ],
   "source": [
    "test = YahooDataReader(\"goog\")"
   ]
  },
  {
   "cell_type": "code",
   "execution_count": 301,
   "metadata": {
    "collapsed": false
   },
   "outputs": [
    {
     "data": {
      "text/plain": [
       "<YahooDataReader: symbol:GOOG start_date:None end_date:None>"
      ]
     },
     "execution_count": 301,
     "metadata": {},
     "output_type": "execute_result"
    }
   ],
   "source": [
    "test"
   ]
  },
  {
   "cell_type": "code",
   "execution_count": 302,
   "metadata": {
    "collapsed": false
   },
   "outputs": [
    {
     "name": "stdout",
     "output_type": "stream",
     "text": [
      "YahooDataReader:\n",
      "    Ticker Symbol:  GOOG\n",
      "    Start Date:     None\n",
      "    End Date:       None\n",
      "        \n"
     ]
    }
   ],
   "source": [
    "print(test)"
   ]
  },
  {
   "cell_type": "code",
   "execution_count": 303,
   "metadata": {
    "collapsed": false
   },
   "outputs": [],
   "source": [
    "first = dt.date.today()\n",
    "last = first"
   ]
  },
  {
   "cell_type": "code",
   "execution_count": 304,
   "metadata": {
    "collapsed": false
   },
   "outputs": [
    {
     "ename": "NameError",
     "evalue": "name 'date_to_sse' is not defined",
     "output_type": "error",
     "traceback": [
      "\u001b[0;31m---------------------------------------------------------------------------\u001b[0m",
      "\u001b[0;31mNameError\u001b[0m                                 Traceback (most recent call last)",
      "\u001b[0;32m<ipython-input-304-6361b80b1a70>\u001b[0m in \u001b[0;36m<module>\u001b[0;34m()\u001b[0m\n\u001b[0;32m----> 1\u001b[0;31m \u001b[0mtest\u001b[0m\u001b[0;34m.\u001b[0m\u001b[0mget_data\u001b[0m\u001b[0;34m(\u001b[0m\u001b[0mfirst\u001b[0m\u001b[0;34m,\u001b[0m \u001b[0mlast\u001b[0m\u001b[0;34m)\u001b[0m\u001b[0;34m\u001b[0m\u001b[0m\n\u001b[0m",
      "\u001b[0;32m<ipython-input-299-c102820fef9f>\u001b[0m in \u001b[0;36mget_data\u001b[0;34m(self, start_date, end_date)\u001b[0m\n\u001b[1;32m     54\u001b[0m         \"\"\"\n\u001b[1;32m     55\u001b[0m         \u001b[0mself\u001b[0m\u001b[0;34m.\u001b[0m\u001b[0m_validate_dates\u001b[0m\u001b[0;34m(\u001b[0m\u001b[0mstart_date\u001b[0m\u001b[0;34m,\u001b[0m \u001b[0mend_date\u001b[0m\u001b[0;34m)\u001b[0m\u001b[0;34m\u001b[0m\u001b[0m\n\u001b[0;32m---> 56\u001b[0;31m         \u001b[0mself\u001b[0m\u001b[0;34m.\u001b[0m\u001b[0m_final_request\u001b[0m\u001b[0;34m(\u001b[0m\u001b[0;34m)\u001b[0m\u001b[0;34m\u001b[0m\u001b[0m\n\u001b[0m\u001b[1;32m     57\u001b[0m         \u001b[0mself\u001b[0m\u001b[0;34m.\u001b[0m\u001b[0m_get_dataframe\u001b[0m\u001b[0;34m(\u001b[0m\u001b[0;34m)\u001b[0m\u001b[0;34m\u001b[0m\u001b[0m\n\u001b[1;32m     58\u001b[0m \u001b[0;34m\u001b[0m\u001b[0m\n",
      "\u001b[0;32m<ipython-input-299-c102820fef9f>\u001b[0m in \u001b[0;36m_final_request\u001b[0;34m(self)\u001b[0m\n\u001b[1;32m    118\u001b[0m                \u001b[0;34m+\u001b[0m \u001b[0;34m\"&events=history\"\u001b[0m\u001b[0;34m\u001b[0m\u001b[0m\n\u001b[1;32m    119\u001b[0m                \u001b[0;34m+\u001b[0m \u001b[0;34m\"&crumb=\"\u001b[0m\u001b[0;34m\u001b[0m\u001b[0m\n\u001b[0;32m--> 120\u001b[0;31m                + self._crumb)\n\u001b[0m\u001b[1;32m    121\u001b[0m         \u001b[0mself\u001b[0m\u001b[0;34m.\u001b[0m\u001b[0m_request_results\u001b[0m \u001b[0;34m=\u001b[0m \u001b[0m_requests\u001b[0m\u001b[0;34m.\u001b[0m\u001b[0mget\u001b[0m\u001b[0;34m(\u001b[0m\u001b[0murl\u001b[0m\u001b[0;34m,\u001b[0m \u001b[0mcookies\u001b[0m\u001b[0;34m=\u001b[0m\u001b[0mself\u001b[0m\u001b[0;34m.\u001b[0m\u001b[0m_cookies\u001b[0m\u001b[0;34m,\u001b[0m \u001b[0mverify\u001b[0m\u001b[0;34m=\u001b[0m\u001b[0;32mFalse\u001b[0m\u001b[0;34m)\u001b[0m\u001b[0;34m\u001b[0m\u001b[0m\n\u001b[1;32m    122\u001b[0m \u001b[0;34m\u001b[0m\u001b[0m\n",
      "\u001b[0;31mNameError\u001b[0m: name 'date_to_sse' is not defined"
     ]
    }
   ],
   "source": [
    "test.get_data(first, last)"
   ]
  },
  {
   "cell_type": "code",
   "execution_count": 274,
   "metadata": {
    "collapsed": false
   },
   "outputs": [
    {
     "name": "stdout",
     "output_type": "stream",
     "text": [
      "> \u001b[0;32m<ipython-input-268-18934ae7fa40>\u001b[0m(56)\u001b[0;36mget_data\u001b[0;34m()\u001b[0m\n",
      "\u001b[0;32m     54 \u001b[0;31m        \"\"\"\n",
      "\u001b[0m\u001b[0;32m     55 \u001b[0;31m        \u001b[0mself\u001b[0m\u001b[0;34m.\u001b[0m\u001b[0m_validate_dates\u001b[0m\u001b[0;34m(\u001b[0m\u001b[0mstart_date\u001b[0m\u001b[0;34m,\u001b[0m \u001b[0mend_date\u001b[0m\u001b[0;34m)\u001b[0m\u001b[0;34m\u001b[0m\u001b[0m\n",
      "\u001b[0m\u001b[0;32m---> 56 \u001b[0;31m        \u001b[0mself\u001b[0m\u001b[0;34m.\u001b[0m\u001b[0m_final_request\u001b[0m\u001b[0;34m(\u001b[0m\u001b[0;34m)\u001b[0m\u001b[0;34m\u001b[0m\u001b[0m\n",
      "\u001b[0m\u001b[0;32m     57 \u001b[0;31m        \u001b[0mself\u001b[0m\u001b[0;34m.\u001b[0m\u001b[0m_get_dataframe\u001b[0m\u001b[0;34m(\u001b[0m\u001b[0;34m)\u001b[0m\u001b[0;34m\u001b[0m\u001b[0m\n",
      "\u001b[0m\u001b[0;32m     58 \u001b[0;31m\u001b[0;34m\u001b[0m\u001b[0m\n",
      "\u001b[0m\n",
      "ipdb> self\n",
      "<YahooDataReader: symbol:GOOG start_date:2018-02-01 end_date:2018-02-01>\n",
      "ipdb> d\n",
      "*** Newest frame\n",
      "ipdb> q\n"
     ]
    }
   ],
   "source": [
    "%debug"
   ]
  },
  {
   "cell_type": "code",
   "execution_count": null,
   "metadata": {
    "collapsed": true
   },
   "outputs": [],
   "source": []
  }
 ],
 "metadata": {
  "kernelspec": {
   "display_name": "Python 3",
   "language": "python",
   "name": "python3"
  },
  "language_info": {
   "codemirror_mode": {
    "name": "ipython",
    "version": 3
   },
   "file_extension": ".py",
   "mimetype": "text/x-python",
   "name": "python",
   "nbconvert_exporter": "python",
   "pygments_lexer": "ipython3",
   "version": "3.5.2"
  }
 },
 "nbformat": 4,
 "nbformat_minor": 2
}
